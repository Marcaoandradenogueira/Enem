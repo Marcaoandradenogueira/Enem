{
  "nbformat": 4,
  "nbformat_minor": 0,
  "metadata": {
    "colab": {
      "name": "Correlação Nota,IDH, população.ipynb",
      "provenance": []
    },
    "kernelspec": {
      "name": "python3",
      "display_name": "Python 3"
    }
  },
  "cells": [
    {
      "cell_type": "markdown",
      "metadata": {
        "id": "5wWFSvWMtB-3",
        "colab_type": "text"
      },
      "source": [
        "# Correlação Nota, IDH e População"
      ]
    },
    {
      "cell_type": "code",
      "metadata": {
        "id": "fKWwCh4hlU_M",
        "colab_type": "code",
        "colab": {
          "base_uri": "https://localhost:8080/",
          "height": 258
        },
        "outputId": "ed9f9bb2-9eaf-4490-e12b-e5728d1377bd"
      },
      "source": [
        "!pip install pandas_redshift"
      ],
      "execution_count": 1,
      "outputs": [
        {
          "output_type": "stream",
          "text": [
            "Requirement already satisfied: pandas_redshift in /usr/local/lib/python3.6/dist-packages (2.0.4)\n",
            "Requirement already satisfied: boto3 in /usr/local/lib/python3.6/dist-packages (from pandas_redshift) (1.14.48)\n",
            "Requirement already satisfied: psycopg2-binary in /usr/local/lib/python3.6/dist-packages (from pandas_redshift) (2.8.5)\n",
            "Requirement already satisfied: pandas in /usr/local/lib/python3.6/dist-packages (from pandas_redshift) (1.0.5)\n",
            "Requirement already satisfied: botocore<1.18.0,>=1.17.48 in /usr/local/lib/python3.6/dist-packages (from boto3->pandas_redshift) (1.17.48)\n",
            "Requirement already satisfied: jmespath<1.0.0,>=0.7.1 in /usr/local/lib/python3.6/dist-packages (from boto3->pandas_redshift) (0.10.0)\n",
            "Requirement already satisfied: s3transfer<0.4.0,>=0.3.0 in /usr/local/lib/python3.6/dist-packages (from boto3->pandas_redshift) (0.3.3)\n",
            "Requirement already satisfied: pytz>=2017.2 in /usr/local/lib/python3.6/dist-packages (from pandas->pandas_redshift) (2018.9)\n",
            "Requirement already satisfied: python-dateutil>=2.6.1 in /usr/local/lib/python3.6/dist-packages (from pandas->pandas_redshift) (2.8.1)\n",
            "Requirement already satisfied: numpy>=1.13.3 in /usr/local/lib/python3.6/dist-packages (from pandas->pandas_redshift) (1.18.5)\n",
            "Requirement already satisfied: urllib3<1.26,>=1.20; python_version != \"3.4\" in /usr/local/lib/python3.6/dist-packages (from botocore<1.18.0,>=1.17.48->boto3->pandas_redshift) (1.24.3)\n",
            "Requirement already satisfied: docutils<0.16,>=0.10 in /usr/local/lib/python3.6/dist-packages (from botocore<1.18.0,>=1.17.48->boto3->pandas_redshift) (0.15.2)\n",
            "Requirement already satisfied: six>=1.5 in /usr/local/lib/python3.6/dist-packages (from python-dateutil>=2.6.1->pandas->pandas_redshift) (1.15.0)\n"
          ],
          "name": "stdout"
        }
      ]
    },
    {
      "cell_type": "markdown",
      "metadata": {
        "id": "TA_QXkX6tPA4",
        "colab_type": "text"
      },
      "source": [
        "## Import\n",
        "\n",
        "### Pandas\n",
        "\n",
        "Pandas para analisar dados do Redshift\n",
        "https://pandas.pydata.org/docs/\n",
        "\n",
        "\n",
        "### pandas_redshift\n",
        "\n",
        "Para conectar ao redshift e transformar em um dataframe\n",
        "\n",
        "### Conigparser\n",
        "\n",
        "Para passar parametros na conexão ao Redshift\n",
        "https://docs.python.org/3/library/configparser.html\n",
        "\n",
        "### matplotlib\n",
        "\n",
        "Para plotar gráficos\n",
        "\n",
        "### Seaborn\n",
        "\n",
        "Para melhorar o visual dos gráficos\n"
      ]
    },
    {
      "cell_type": "code",
      "metadata": {
        "id": "_UB2Uvqgkb_Z",
        "colab_type": "code",
        "colab": {
          "base_uri": "https://localhost:8080/",
          "height": 71
        },
        "outputId": "1dd4828c-a6e9-43d6-dbf3-8d7418ab17a7"
      },
      "source": [
        "import pandas as pd\n",
        "import pandas_redshift as pr\n",
        "import configparser\n",
        "import matplotlib.pyplot as plt\n",
        "import seaborn as sns"
      ],
      "execution_count": 2,
      "outputs": [
        {
          "output_type": "stream",
          "text": [
            "/usr/local/lib/python3.6/dist-packages/statsmodels/tools/_testing.py:19: FutureWarning: pandas.util.testing is deprecated. Use the functions in the public API at pandas.testing instead.\n",
            "  import pandas.util.testing as tm\n"
          ],
          "name": "stderr"
        }
      ]
    },
    {
      "cell_type": "code",
      "metadata": {
        "id": "xOKZ85cwmKBH",
        "colab_type": "code",
        "colab": {}
      },
      "source": [
        "config = configparser.ConfigParser()\n",
        "config.read_file(open('dwh.cfg'))\n",
        "\n",
        "DB_NAME                 = config.get('CLUSTER','DB_NAME')\n",
        "HOST                 = config.get('CLUSTER','HOST')\n",
        "DB_PORT                 = config.get('CLUSTER','DB_PORT')\n",
        "DB_USER                 = config.get('CLUSTER','DB_USER')\n",
        "DB_PASSWORD                 = config.get('CLUSTER','DB_PASSWORD')"
      ],
      "execution_count": 3,
      "outputs": []
    },
    {
      "cell_type": "code",
      "metadata": {
        "id": "hwVgAYSdlg-k",
        "colab_type": "code",
        "colab": {}
      },
      "source": [
        "pr.connect_to_redshift(dbname = DB_NAME,\n",
        "                        host = HOST,\n",
        "                        port = DB_PORT,\n",
        "                        user = DB_USER,\n",
        "                        password = DB_PASSWORD)"
      ],
      "execution_count": 4,
      "outputs": []
    },
    {
      "cell_type": "markdown",
      "metadata": {
        "id": "8Gmtlf6Bt0Ye",
        "colab_type": "text"
      },
      "source": [
        "### Extrair nota média e idh_municipal"
      ]
    },
    {
      "cell_type": "code",
      "metadata": {
        "id": "rsJMfhOpmRbr",
        "colab_type": "code",
        "colab": {}
      },
      "source": [
        "df = pr.redshift_to_pandas('''\n",
        "select nu_nota_valor, idh_municipal from view_agg_fat_enem vafe\n",
        "left join staging_cidades sc\n",
        "on vafe.co_municipio_prova = sc.codigo\n",
        "order by nu_nota_valor, idh_municipal\n",
        "''')"
      ],
      "execution_count": 5,
      "outputs": []
    },
    {
      "cell_type": "code",
      "metadata": {
        "id": "WfYVvRkDm-ck",
        "colab_type": "code",
        "colab": {
          "base_uri": "https://localhost:8080/",
          "height": 204
        },
        "outputId": "69e17720-e3a5-4d1c-d0d3-c492a6c5b479"
      },
      "source": [
        "df.head()"
      ],
      "execution_count": 6,
      "outputs": [
        {
          "output_type": "execute_result",
          "data": {
            "text/html": [
              "<div>\n",
              "<style scoped>\n",
              "    .dataframe tbody tr th:only-of-type {\n",
              "        vertical-align: middle;\n",
              "    }\n",
              "\n",
              "    .dataframe tbody tr th {\n",
              "        vertical-align: top;\n",
              "    }\n",
              "\n",
              "    .dataframe thead th {\n",
              "        text-align: right;\n",
              "    }\n",
              "</style>\n",
              "<table border=\"1\" class=\"dataframe\">\n",
              "  <thead>\n",
              "    <tr style=\"text-align: right;\">\n",
              "      <th></th>\n",
              "      <th>nu_nota_valor</th>\n",
              "      <th>idh_municipal</th>\n",
              "    </tr>\n",
              "  </thead>\n",
              "  <tbody>\n",
              "    <tr>\n",
              "      <th>0</th>\n",
              "      <td>315.709779</td>\n",
              "      <td>0.521</td>\n",
              "    </tr>\n",
              "    <tr>\n",
              "      <th>1</th>\n",
              "      <td>330.392157</td>\n",
              "      <td>0.574</td>\n",
              "    </tr>\n",
              "    <tr>\n",
              "      <th>2</th>\n",
              "      <td>333.035294</td>\n",
              "      <td>0.490</td>\n",
              "    </tr>\n",
              "    <tr>\n",
              "      <th>3</th>\n",
              "      <td>360.740741</td>\n",
              "      <td>0.522</td>\n",
              "    </tr>\n",
              "    <tr>\n",
              "      <th>4</th>\n",
              "      <td>367.809524</td>\n",
              "      <td>0.498</td>\n",
              "    </tr>\n",
              "  </tbody>\n",
              "</table>\n",
              "</div>"
            ],
            "text/plain": [
              "   nu_nota_valor  idh_municipal\n",
              "0     315.709779          0.521\n",
              "1     330.392157          0.574\n",
              "2     333.035294          0.490\n",
              "3     360.740741          0.522\n",
              "4     367.809524          0.498"
            ]
          },
          "metadata": {
            "tags": []
          },
          "execution_count": 6
        }
      ]
    },
    {
      "cell_type": "markdown",
      "metadata": {
        "id": "pFqiv1nft67U",
        "colab_type": "text"
      },
      "source": [
        "### Calcular correlação\n",
        "\n",
        "- Correlação de 0.76, o que indica que cidades com IDH maior possívelmente tem uma nota maior no Enem.\n"
      ]
    },
    {
      "cell_type": "code",
      "metadata": {
        "id": "83V5jVSDmZpj",
        "colab_type": "code",
        "colab": {
          "base_uri": "https://localhost:8080/",
          "height": 68
        },
        "outputId": "91a6eddc-bf89-4e82-c103-c8023d908ba1"
      },
      "source": [
        "corr = df.corr()\n",
        "print(corr)"
      ],
      "execution_count": 7,
      "outputs": [
        {
          "output_type": "stream",
          "text": [
            "               nu_nota_valor  idh_municipal\n",
            "nu_nota_valor       1.000000       0.766565\n",
            "idh_municipal       0.766565       1.000000\n"
          ],
          "name": "stdout"
        }
      ]
    },
    {
      "cell_type": "markdown",
      "metadata": {
        "id": "5Yzqtc0huB6-",
        "colab_type": "text"
      },
      "source": [
        "### Plotar gráfico\n",
        "\n",
        "- Gráficos apresentam uma correlação positiva entre IDH e  nota no enem"
      ]
    },
    {
      "cell_type": "code",
      "metadata": {
        "id": "MRkAlZxrn_zP",
        "colab_type": "code",
        "colab": {
          "base_uri": "https://localhost:8080/",
          "height": 265
        },
        "outputId": "5d034401-fa3c-4315-9698-3fabfd2b29f4"
      },
      "source": [
        "plt.plot( 'nu_nota_valor', 'idh_municipal', data=df, linestyle='none', marker='o')\n",
        "plt.show()"
      ],
      "execution_count": 8,
      "outputs": [
        {
          "output_type": "display_data",
          "data": {
            "image/png": "[encoded data removed]",
            "text/plain": [
              "<Figure size 432x288 with 1 Axes>"
            ]
          },
          "metadata": {
            "tags": [],
            "needs_background": "light"
          }
        }
      ]
    },
    {
      "cell_type": "code",
      "metadata": {
        "id": "h5Ltvskprc7k",
        "colab_type": "code",
        "colab": {
          "base_uri": "https://localhost:8080/",
          "height": 287
        },
        "outputId": "a7251d91-0c09-4bf8-c9c4-32c2a38f3a2e"
      },
      "source": [
        "ax = sns.heatmap(corr)"
      ],
      "execution_count": 9,
      "outputs": [
        {
          "output_type": "stream",
          "text": [
            "Pandas Redshift | 2020-09-06 23:52:06,807 | numexpr.utils | INFO | NumExpr defaulting to 2 threads.\n"
          ],
          "name": "stderr"
        },
        {
          "output_type": "display_data",
          "data": {
            "image/png": "[encoded data removed]",
            "text/plain": [
              "<Figure size 432x288 with 2 Axes>"
            ]
          },
          "metadata": {
            "tags": [],
            "needs_background": "light"
          }
        }
      ]
    },
    {
      "cell_type": "markdown",
      "metadata": {
        "id": "jRO1tOKSvzPj",
        "colab_type": "text"
      },
      "source": [
        "### Extrair nota média e população"
      ]
    },
    {
      "cell_type": "code",
      "metadata": {
        "id": "inhXDazsr0cq",
        "colab_type": "code",
        "colab": {}
      },
      "source": [
        "df = pr.redshift_to_pandas('''\n",
        "select nu_nota_valor, populacao from view_agg_fat_enem vafe\n",
        "left join staging_cidades sc\n",
        "on vafe.co_municipio_prova = sc.codigo\n",
        "order by nu_nota_valor\n",
        "''')"
      ],
      "execution_count": 10,
      "outputs": []
    },
    {
      "cell_type": "markdown",
      "metadata": {
        "id": "etUhQHkrwAh9",
        "colab_type": "text"
      },
      "source": [
        "### Calcular correlação\n",
        "\n",
        "- Correlação de 0.16, o que indica que cidades com população maior possívelmente tem uma nota maior no Enem, porém a correlação é bem baixa."
      ]
    },
    {
      "cell_type": "code",
      "metadata": {
        "id": "lqh4FEecsHLZ",
        "colab_type": "code",
        "colab": {
          "base_uri": "https://localhost:8080/",
          "height": 68
        },
        "outputId": "3e3ec9dc-aac9-4ddc-d518-a6be294df5a5"
      },
      "source": [
        "corr = df.corr()\n",
        "print(corr)"
      ],
      "execution_count": 11,
      "outputs": [
        {
          "output_type": "stream",
          "text": [
            "               nu_nota_valor  populacao\n",
            "nu_nota_valor       1.000000   0.168258\n",
            "populacao           0.168258   1.000000\n"
          ],
          "name": "stdout"
        }
      ]
    },
    {
      "cell_type": "markdown",
      "metadata": {
        "id": "eR7hdRONwRn_",
        "colab_type": "text"
      },
      "source": [
        "### Plotar gráfico\n",
        "\n",
        "- Gráficos apresentam uma correlação positiva entre IDH e  nota no enem"
      ]
    },
    {
      "cell_type": "code",
      "metadata": {
        "id": "FVOtc8zvsCzo",
        "colab_type": "code",
        "colab": {
          "base_uri": "https://localhost:8080/",
          "height": 276
        },
        "outputId": "82519c10-7a14-4d26-c2bf-6c377cf9ba2d"
      },
      "source": [
        "plt.plot( 'nu_nota_valor', 'populacao', data=df, linestyle='none', marker='o')\n",
        "plt.show()"
      ],
      "execution_count": 12,
      "outputs": [
        {
          "output_type": "display_data",
          "data": {
            "image/png": "[encoded data removed]",
            "text/plain": [
              "<Figure size 432x288 with 1 Axes>"
            ]
          },
          "metadata": {
            "tags": [],
            "needs_background": "light"
          }
        }
      ]
    },
    {
      "cell_type": "code",
      "metadata": {
        "id": "nQ5rnCBdsv-S",
        "colab_type": "code",
        "colab": {
          "base_uri": "https://localhost:8080/",
          "height": 270
        },
        "outputId": "e928abf3-056a-4de4-f40e-793e0db6acb8"
      },
      "source": [
        "ax = sns.heatmap(corr)"
      ],
      "execution_count": 13,
      "outputs": [
        {
          "output_type": "display_data",
          "data": {
            "image/png": "[encoded data removed]",
            "text/plain": [
              "<Figure size 432x288 with 2 Axes>"
            ]
          },
          "metadata": {
            "tags": [],
            "needs_background": "light"
          }
        }
      ]
    }
  ]
}